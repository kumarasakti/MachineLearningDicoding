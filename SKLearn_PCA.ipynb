{
  "nbformat": 4,
  "nbformat_minor": 0,
  "metadata": {
    "colab": {
      "name": "SKLearn PCA.ipynb",
      "provenance": [],
      "authorship_tag": "ABX9TyNuLwVh8SPSEu1Jm4C81t3F",
      "include_colab_link": true
    },
    "kernelspec": {
      "name": "python3",
      "display_name": "Python 3"
    }
  },
  "cells": [
    {
      "cell_type": "markdown",
      "metadata": {
        "id": "view-in-github",
        "colab_type": "text"
      },
      "source": [
        "<a href=\"https://colab.research.google.com/github/kumarasakti/MachineLearningDicoding/blob/master/SKLearn_PCA.ipynb\" target=\"_parent\"><img src=\"https://colab.research.google.com/assets/colab-badge.svg\" alt=\"Open In Colab\"/></a>"
      ]
    },
    {
      "cell_type": "markdown",
      "metadata": {
        "id": "MLKdwCSdaVCD",
        "colab_type": "text"
      },
      "source": [
        "Using PCA on iris datasets"
      ]
    },
    {
      "cell_type": "code",
      "metadata": {
        "id": "jvW5BP0IY06S",
        "colab_type": "code",
        "colab": {}
      },
      "source": [
        "from sklearn.decomposition import PCA\n",
        "from sklearn.model_selection import train_test_split\n",
        "from sklearn import datasets"
      ],
      "execution_count": 2,
      "outputs": []
    },
    {
      "cell_type": "markdown",
      "metadata": {
        "id": "tJrLvI_OaUry",
        "colab_type": "text"
      },
      "source": [
        "inputing data and sort the data, make the train set also test set"
      ]
    },
    {
      "cell_type": "code",
      "metadata": {
        "id": "02XBireRaUbz",
        "colab_type": "code",
        "colab": {}
      },
      "source": [
        "iris = datasets.load_iris()\n",
        "atribut = iris.data\n",
        "label = iris.target\n",
        "#membagi data menjadi train set dan test set\n",
        "X_train, X_test, y_train, y_test, = train_test_split(\n",
        "    atribut, label, test_size = 0.2)"
      ],
      "execution_count": 3,
      "outputs": []
    },
    {
      "cell_type": "markdown",
      "metadata": {
        "id": "W9yLSQMsdBdz",
        "colab_type": "text"
      },
      "source": [
        "make a decision tree model for training and test"
      ]
    },
    {
      "cell_type": "code",
      "metadata": {
        "id": "BMuIQ433dBXc",
        "colab_type": "code",
        "colab": {
          "base_uri": "https://localhost:8080/",
          "height": 34
        },
        "outputId": "6d959bb6-3062-45f2-f48b-1fcb91bb8c35"
      },
      "source": [
        "from sklearn import tree\n",
        "decision_tree = tree.DecisionTreeClassifier()\n",
        "model_pertama = decision_tree.fit (X_train, y_train)\n",
        "model_pertama.score (X_test, y_test)\n"
      ],
      "execution_count": 4,
      "outputs": [
        {
          "output_type": "execute_result",
          "data": {
            "text/plain": [
              "0.9333333333333333"
            ]
          },
          "metadata": {
            "tags": []
          },
          "execution_count": 4
        }
      ]
    },
    {
      "cell_type": "markdown",
      "metadata": {
        "id": "a4hLIRZqkNrg",
        "colab_type": "text"
      },
      "source": [
        "make a PCA with 4 principal component and apply it to datasets"
      ]
    },
    {
      "cell_type": "code",
      "metadata": {
        "id": "L0UHrIRTeQnX",
        "colab_type": "code",
        "colab": {
          "base_uri": "https://localhost:8080/",
          "height": 34
        },
        "outputId": "67d18c13-4d66-4214-bf81-f5ffb203917e"
      },
      "source": [
        "#membuat PCA dengan 4 principal component\n",
        "pca = PCA(n_components = 4)\n",
        "#apply PCA to datasets\n",
        "pca_attributes = pca.fit_transform(X_train)\n",
        "#looking variance from every atrributes\n",
        "pca.explained_variance_ratio_\n"
      ],
      "execution_count": 6,
      "outputs": [
        {
          "output_type": "execute_result",
          "data": {
            "text/plain": [
              "array([0.92335713, 0.05659532, 0.0148875 , 0.00516005])"
            ]
          },
          "metadata": {
            "tags": []
          },
          "execution_count": 6
        }
      ]
    },
    {
      "cell_type": "markdown",
      "metadata": {
        "id": "ZEdAtLNSkWBO",
        "colab_type": "text"
      },
      "source": [
        "make a PCA again with 2 principal component only, and test the accuration from classifier after using PCA"
      ]
    },
    {
      "cell_type": "code",
      "metadata": {
        "id": "9UNOC3UPiaB8",
        "colab_type": "code",
        "colab": {
          "base_uri": "https://localhost:8080/",
          "height": 34
        },
        "outputId": "9e81c0d8-e30c-474f-fab5-2071658b438f"
      },
      "source": [
        "pca = PCA(n_components = 2)\n",
        "X_train_pca = pca.fit_transform(X_train)\n",
        "X_test_pca = pca.fit_transform(X_test)\n",
        "model2 = decision_tree.fit(X_train_pca, y_train)\n",
        "model2.score(X_test_pca, y_test)"
      ],
      "execution_count": 8,
      "outputs": [
        {
          "output_type": "execute_result",
          "data": {
            "text/plain": [
              "0.9333333333333333"
            ]
          },
          "metadata": {
            "tags": []
          },
          "execution_count": 8
        }
      ]
    }
  ]
}