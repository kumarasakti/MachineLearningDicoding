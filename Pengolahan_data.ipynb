{
  "nbformat": 4,
  "nbformat_minor": 0,
  "metadata": {
    "colab": {
      "name": "Pengolahan data.ipynb",
      "provenance": [],
      "authorship_tag": "ABX9TyM2J3VFZ4/5LpAhA+spWO/o",
      "include_colab_link": true
    },
    "kernelspec": {
      "name": "python3",
      "display_name": "Python 3"
    }
  },
  "cells": [
    {
      "cell_type": "markdown",
      "metadata": {
        "id": "view-in-github",
        "colab_type": "text"
      },
      "source": [
        "<a href=\"https://colab.research.google.com/github/kumarasakti/MachineLearningDicoding/blob/master/Pengolahan_data.ipynb\" target=\"_parent\"><img src=\"https://colab.research.google.com/assets/colab-badge.svg\" alt=\"Open In Colab\"/></a>"
      ]
    },
    {
      "cell_type": "markdown",
      "metadata": {
        "id": "FRhmhrQ7hbtA",
        "colab_type": "text"
      },
      "source": [
        "Penggunaan metode Normalization data menggunakan minmaxscaler"
      ]
    },
    {
      "cell_type": "code",
      "metadata": {
        "id": "IA2hdDmIgyUj",
        "colab_type": "code",
        "outputId": "26c664f0-bc2b-4f64-e786-288aeb3b0164",
        "colab": {
          "base_uri": "https://localhost:8080/",
          "height": 102
        }
      },
      "source": [
        "from sklearn import preprocessing\n",
        "from sklearn.preprocessing import MinMaxScaler\n",
        "data = [[12000000, 33], [35000000, 45], [4000000, 23], [6500000, 26], [9000000, 29]]\n",
        "\n",
        "scaler = MinMaxScaler()\n",
        "scaler.fit(data)\n",
        "print(scaler.transform(data))"
      ],
      "execution_count": 0,
      "outputs": [
        {
          "output_type": "stream",
          "text": [
            "[[0.25806452 0.45454545]\n",
            " [1.         1.        ]\n",
            " [0.         0.        ]\n",
            " [0.08064516 0.13636364]\n",
            " [0.16129032 0.27272727]]\n"
          ],
          "name": "stdout"
        }
      ]
    },
    {
      "cell_type": "markdown",
      "metadata": {
        "id": "Qnby_58fhoB8",
        "colab_type": "text"
      },
      "source": [
        "Penggunaan Standardization Metode Z Score"
      ]
    },
    {
      "cell_type": "code",
      "metadata": {
        "id": "bu4T2AhwhmTT",
        "colab_type": "code",
        "outputId": "c8874651-e81b-47b8-d3f6-e65f1c5feb1b",
        "colab": {
          "base_uri": "https://localhost:8080/",
          "height": 102
        }
      },
      "source": [
        "data = scaler.transform(data)\n",
        "data "
      ],
      "execution_count": 0,
      "outputs": [
        {
          "output_type": "execute_result",
          "data": {
            "text/plain": [
              "array([[0.25806452, 0.45454545],\n",
              "       [1.        , 1.        ],\n",
              "       [0.        , 0.        ],\n",
              "       [0.08064516, 0.13636364],\n",
              "       [0.16129032, 0.27272727]])"
            ]
          },
          "metadata": {
            "tags": []
          },
          "execution_count": 6
        }
      ]
    }
  ]
}